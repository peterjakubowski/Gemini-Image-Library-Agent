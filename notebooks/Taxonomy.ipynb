{
 "cells": [
  {
   "cell_type": "markdown",
   "id": "5d86ba2e-55cf-495a-b6be-1dfb024d8b7d",
   "metadata": {},
   "source": [
    "# Taxonomy Development with Gemini"
   ]
  },
  {
   "cell_type": "code",
   "execution_count": 4,
   "id": "8fbd4249-b002-4877-bc58-3be362c396e6",
   "metadata": {},
   "outputs": [],
   "source": [
    "# Import packages for import workflow\n",
    "from google import genai\n",
    "from google.genai import types\n",
    "from dotenv import load_dotenv\n",
    "import os\n",
    "import json\n",
    "from typing import Literal\n",
    "from pydantic import BaseModel"
   ]
  },
  {
   "cell_type": "code",
   "execution_count": 2,
   "id": "4bfc23ba-582a-4db9-85cf-d064704cf256",
   "metadata": {},
   "outputs": [],
   "source": [
    "# Get our api key\n",
    "load_dotenv()\n",
    "GOOGLE_API_KEY = os.getenv('GOOGLE_API_KEY')\n",
    "# Set up gemini client\n",
    "client = genai.Client(api_key=GOOGLE_API_KEY)"
   ]
  },
  {
   "cell_type": "code",
   "execution_count": 5,
   "id": "b31b4e5e-9bef-448a-9d18-97a3a67823c9",
   "metadata": {},
   "outputs": [],
   "source": [
    "SYSTEM_INSTRUCTIONS = (\"You are a taxonomy expert here to help me develop controlled vocabularies for my image library. \"\n",
    "                       \"I give you parameters for a taxonomy, you generate the list of terms. \"\n",
    "                      )"
   ]
  },
  {
   "cell_type": "code",
   "execution_count": 6,
   "id": "cd8fffc7-f5b3-407b-8a31-09b3fb229c79",
   "metadata": {},
   "outputs": [],
   "source": [
    "class Taxonomy(BaseModel):\n",
    "    taxonomy: list[str]\n",
    "\n",
    "MODEL_CONFIG = types.GenerateContentConfig(safety_settings=None,\n",
    "                                           system_instruction=SYSTEM_INSTRUCTIONS,\n",
    "                                           max_output_tokens=2048,\n",
    "                                           temperature=0.3,\n",
    "                                           top_p=0.6,\n",
    "                                           top_k=32,\n",
    "                                           presence_penalty=0.3,\n",
    "                                           frequency_penalty=0.3,\n",
    "                                           response_mime_type='application/json',\n",
    "                                           response_schema=Taxonomy)\n"
   ]
  },
  {
   "cell_type": "markdown",
   "id": "3aef3290-9177-454a-9f28-199b04f6f719",
   "metadata": {},
   "source": [
    "## Mood Taxonomy"
   ]
  },
  {
   "cell_type": "code",
   "execution_count": 21,
   "id": "0d904087-5394-441c-b56d-88e5f70efb59",
   "metadata": {},
   "outputs": [],
   "source": [
    "prompt = (\"I am categorizing images by mood. \"\n",
    "          \"What 50 keywords can comprehensively label the mood found in photos? \"\n",
    "          \"Mood should describe the feeling that can be felt in an image. \"\n",
    "          \"Use words that describe emotions .\"\n",
    "          \"Some examples are Dark, Sad, Happy, Hopeful, Uplifting, Calm, Anxious, Cheerful, Gloomy, and Bright. \"\n",
    "          \"Use these examples as inspiration and create a taxonomy of unique mood descriptors. \"\n",
    "          \"This vocabulary will be used to tag images and describe the mood of its contents. \"\n",
    "          \"Only one term can be used to describe an image. \"\n",
    "          \"The meaning of words in the taxonomy must be destinct in meaning from other words in the taxonomy.\"\n",
    "         )\n",
    "\n",
    "response = client.models.generate_content(model='gemini-2.0-flash-exp',\n",
    "                                          config=MODEL_CONFIG,\n",
    "                                          contents=[prompt])"
   ]
  },
  {
   "cell_type": "code",
   "execution_count": 22,
   "id": "0ad5b629-1764-42b2-aa66-b6837022b2ab",
   "metadata": {},
   "outputs": [
    {
     "data": {
      "text/plain": [
       "{'taxonomy': ['Melancholy',\n",
       "  'Joyful',\n",
       "  'Serene',\n",
       "  'Agitated',\n",
       "  'Tranquil',\n",
       "  'Frightened',\n",
       "  'Peaceful',\n",
       "  'Enraged',\n",
       "  'Content',\n",
       "  'Disgusted',\n",
       "  'Optimistic',\n",
       "  'Pessimistic',\n",
       "  'Romantic',\n",
       "  'Lonely',\n",
       "  'Playful',\n",
       "  'Solemn',\n",
       "  'Mysterious',\n",
       "  'Bored',\n",
       "  'Excited',\n",
       "  'Guilty',\n",
       "  'Empowering',\n",
       "  'Shameful',\n",
       "  'Reflective',\n",
       "  'Jealous',\n",
       "  'Dreamy',\n",
       "  'Betrayed',\n",
       "  'Vibrant',\n",
       "  'Nostalgic',\n",
       "  'Tense',\n",
       "  'Comforting',\n",
       "  'Suspicious',\n",
       "  'Hopeful',\n",
       "  'Despairing',\n",
       "  'Curious',\n",
       "  'Resentful',\n",
       "  'Lively',\n",
       "  'Grief',\n",
       "  'Whimsical',\n",
       "  'Apathetic',\n",
       "  'Passionate',\n",
       "  'Insecure',\n",
       "  'Radiant',\n",
       "  'Vulnerable',\n",
       "  'Intense',\n",
       "  'Defiant',\n",
       "  'Gentle',\n",
       "  'Sorrowful',\n",
       "  'Eerie',\n",
       "  'Triumphant',\n",
       "  'Yearning']}"
      ]
     },
     "execution_count": 22,
     "metadata": {},
     "output_type": "execute_result"
    }
   ],
   "source": [
    "mood_taxonomy = json.loads(response.text)\n",
    "mood_taxonomy"
   ]
  },
  {
   "cell_type": "code",
   "execution_count": 23,
   "id": "13d6734f-94d9-4e44-b6aa-7afb8722d737",
   "metadata": {},
   "outputs": [],
   "source": [
    "with open('../data/mood_taxonomy.json', 'w') as f:\n",
    "    json.dump(mood_taxonomy, f, indent=4)"
   ]
  },
  {
   "cell_type": "markdown",
   "id": "29cf67c8-8515-44c7-8ae1-7de6a6f177cc",
   "metadata": {},
   "source": [
    "## Style Taxonomy"
   ]
  },
  {
   "cell_type": "code",
   "execution_count": 24,
   "id": "22eb34b3-10cc-4261-986b-0d32adafee63",
   "metadata": {},
   "outputs": [],
   "source": [
    "prompt = (\"I am categorizing images by style. \"\n",
    "          \"What 50 keywords can comprehensively label the different style of photos? \"\n",
    "          \"Style should describe the visual style that can be observed when viewing an image. \"\n",
    "          \"Use words that describe visual style.\"\n",
    "          \"Some examples are Classic, Elegant, Colorful, Abstract, and Bold. \"\n",
    "          \"Use these examples as inspiration and create a taxonomy of unique style descriptors. \"\n",
    "          \"This vocabulary will be used to tag images and describe the style of its contents. \"\n",
    "          \"Only one term can be used to describe an image. \"\n",
    "          \"The meaning of words in the taxonomy must be destinct in meaning from other words in the taxonomy.\"\n",
    "         )\n",
    "\n",
    "response = client.models.generate_content(model='gemini-2.0-flash-exp',\n",
    "                                          config=MODEL_CONFIG,\n",
    "                                          contents=[prompt])"
   ]
  },
  {
   "cell_type": "code",
   "execution_count": 25,
   "id": "2f2e22b8-71d7-46f7-9e46-292741cfd982",
   "metadata": {},
   "outputs": [
    {
     "data": {
      "text/plain": [
       "{'taxonomy': ['Abstract',\n",
       "  'Airy',\n",
       "  'Artistic',\n",
       "  'Authentic',\n",
       "  'Balanced',\n",
       "  'Bold',\n",
       "  'Bright',\n",
       "  'Candid',\n",
       "  'Chiaroscuro',\n",
       "  'Cinematic',\n",
       "  'Classic',\n",
       "  'Clean',\n",
       "  'Colorful',\n",
       "  'Contemporary',\n",
       "  'Contrasty',\n",
       "  'Cozy',\n",
       "  'Dark',\n",
       "  'Delicate',\n",
       "  'Detailed',\n",
       "  'Dramatic',\n",
       "  'Dreamy',\n",
       "  'Dynamic',\n",
       "  'Earthy',\n",
       "  'Elegant',\n",
       "  'Emotional',\n",
       "  'Energetic',\n",
       "  'Fine-Art',\n",
       "  'Flat',\n",
       "  'Flowing',\n",
       "  'Folk',\n",
       "  'Fragmented',\n",
       "  'Geometric',\n",
       "  'Glamorous',\n",
       "  'Gritty',\n",
       "  'High-Key',\n",
       "  'Illustrative',\n",
       "  'Intimate',\n",
       "  'Layered',\n",
       "  'Light',\n",
       "  'Lomo',\n",
       "  'Low-Key',\n",
       "  'Minimalist',\n",
       "  'Monochromatic',\n",
       "  'Moody',\n",
       "  'Natural',\n",
       "  'Nostalgic',\n",
       "  'Painterly',\n",
       "  'Playful',\n",
       "  'Pop',\n",
       "  'Rustic',\n",
       "  'Soft',\n",
       "  'Surreal',\n",
       "  'Vintage']}"
      ]
     },
     "execution_count": 25,
     "metadata": {},
     "output_type": "execute_result"
    }
   ],
   "source": [
    "style_taxonomy = json.loads(response.text)\n",
    "style_taxonomy"
   ]
  },
  {
   "cell_type": "code",
   "execution_count": 26,
   "id": "834fa3fe-b60d-4499-8ddb-cbaae66f08b4",
   "metadata": {},
   "outputs": [],
   "source": [
    "with open('../data/style_taxonomy.json', 'w') as f:\n",
    "    json.dump(style_taxonomy, f, indent=4)"
   ]
  },
  {
   "cell_type": "code",
   "execution_count": null,
   "id": "d72d81af-040d-48e8-838c-16482431ad8c",
   "metadata": {},
   "outputs": [],
   "source": []
  }
 ],
 "metadata": {
  "kernelspec": {
   "display_name": "Python 3 (ipykernel)",
   "language": "python",
   "name": "python3"
  },
  "language_info": {
   "codemirror_mode": {
    "name": "ipython",
    "version": 3
   },
   "file_extension": ".py",
   "mimetype": "text/x-python",
   "name": "python",
   "nbconvert_exporter": "python",
   "pygments_lexer": "ipython3",
   "version": "3.12.8"
  }
 },
 "nbformat": 4,
 "nbformat_minor": 5
}
